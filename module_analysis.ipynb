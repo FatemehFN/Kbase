{
 "cells": [
  {
   "cell_type": "code",
   "execution_count": 3,
   "metadata": {},
   "outputs": [],
   "source": [
    "import pandas as pd\n",
    "import numpy as np\n",
    "import matplotlib.pyplot as plt\n",
    "import seaborn as sns\n",
    "import ast"
   ]
  },
  {
   "cell_type": "code",
   "execution_count": 16,
   "metadata": {},
   "outputs": [],
   "source": [
    "corr_thresh=0.18"
   ]
  },
  {
   "cell_type": "code",
   "execution_count": null,
   "metadata": {},
   "outputs": [],
   "source": [
    "#load the correlation results\n",
    "df_modules=pd.read_csv('/Users/fsfatemi/local_AD/Correlation_results/module_correlations_leiden_all.csv')\n",
    "df_modules=df_modules.sort_values('correlation',ascending=False)\n",
    "df_modules['cluster_l']=df_modules['cluster'].apply(lambda x: ast.literal_eval(x))\n",
    "\n",
    "#get the clusters with correlations more than 0.18 (this 0.18 is arbitrary and can be changed)\n",
    "top_genes=df_modules[df_modules['correlation']>0.18]['cluster_l']"
   ]
  },
  {
   "cell_type": "code",
   "execution_count": 9,
   "metadata": {},
   "outputs": [
    {
     "data": {
      "text/plain": [
       "1503"
      ]
     },
     "execution_count": 9,
     "metadata": {},
     "output_type": "execute_result"
    }
   ],
   "source": [
    "#get the merged list of all genes in the top clusters\n",
    "unique_gene_list = list(set(item for sublist in top_genes for item in sublist))\n",
    "len(unique_gene_list)"
   ]
  },
  {
   "cell_type": "code",
   "execution_count": 10,
   "metadata": {},
   "outputs": [
    {
     "data": {
      "text/html": [
       "<div>\n",
       "<style scoped>\n",
       "    .dataframe tbody tr th:only-of-type {\n",
       "        vertical-align: middle;\n",
       "    }\n",
       "\n",
       "    .dataframe tbody tr th {\n",
       "        vertical-align: top;\n",
       "    }\n",
       "\n",
       "    .dataframe thead th {\n",
       "        text-align: right;\n",
       "    }\n",
       "</style>\n",
       "<table border=\"1\" class=\"dataframe\">\n",
       "  <thead>\n",
       "    <tr style=\"text-align: right;\">\n",
       "      <th></th>\n",
       "      <th>Geneid</th>\n",
       "      <th>gc</th>\n",
       "      <th>len</th>\n",
       "      <th>gc_col</th>\n",
       "      <th>Chr</th>\n",
       "      <th>gene_type</th>\n",
       "      <th>gene_name</th>\n",
       "    </tr>\n",
       "  </thead>\n",
       "  <tbody>\n",
       "    <tr>\n",
       "      <th>0</th>\n",
       "      <td>ENSG00000000419.14</td>\n",
       "      <td>0.395752</td>\n",
       "      <td>9276</td>\n",
       "      <td>n.s</td>\n",
       "      <td>chr20</td>\n",
       "      <td>protein_coding</td>\n",
       "      <td>DPM1</td>\n",
       "    </tr>\n",
       "    <tr>\n",
       "      <th>1</th>\n",
       "      <td>ENSG00000000457.14</td>\n",
       "      <td>0.413773</td>\n",
       "      <td>6883</td>\n",
       "      <td>n.s</td>\n",
       "      <td>chr1</td>\n",
       "      <td>protein_coding</td>\n",
       "      <td>SCYL3</td>\n",
       "    </tr>\n",
       "    <tr>\n",
       "      <th>2</th>\n",
       "      <td>ENSG00000000460.17</td>\n",
       "      <td>0.429816</td>\n",
       "      <td>5970</td>\n",
       "      <td>n.s</td>\n",
       "      <td>chr1</td>\n",
       "      <td>protein_coding</td>\n",
       "      <td>C1orf112</td>\n",
       "    </tr>\n",
       "    <tr>\n",
       "      <th>3</th>\n",
       "      <td>ENSG00000000938.13</td>\n",
       "      <td>0.570668</td>\n",
       "      <td>3382</td>\n",
       "      <td>n.s</td>\n",
       "      <td>chr1</td>\n",
       "      <td>protein_coding</td>\n",
       "      <td>FGR</td>\n",
       "    </tr>\n",
       "    <tr>\n",
       "      <th>4</th>\n",
       "      <td>ENSG00000000971.17</td>\n",
       "      <td>0.369406</td>\n",
       "      <td>15284</td>\n",
       "      <td>n.s</td>\n",
       "      <td>chr1</td>\n",
       "      <td>protein_coding</td>\n",
       "      <td>CFH</td>\n",
       "    </tr>\n",
       "  </tbody>\n",
       "</table>\n",
       "</div>"
      ],
      "text/plain": [
       "               Geneid        gc    len gc_col    Chr       gene_type gene_name\n",
       "0  ENSG00000000419.14  0.395752   9276    n.s  chr20  protein_coding      DPM1\n",
       "1  ENSG00000000457.14  0.413773   6883    n.s   chr1  protein_coding     SCYL3\n",
       "2  ENSG00000000460.17  0.429816   5970    n.s   chr1  protein_coding  C1orf112\n",
       "3  ENSG00000000938.13  0.570668   3382    n.s   chr1  protein_coding       FGR\n",
       "4  ENSG00000000971.17  0.369406  15284    n.s   chr1  protein_coding       CFH"
      ]
     },
     "execution_count": 10,
     "metadata": {},
     "output_type": "execute_result"
    }
   ],
   "source": [
    "#load the annotation file\n",
    "annotation_df=pd.read_csv('/Users/fsfatemi/local_AD/KBASE_datashare/Normalization/gene_annotation.cqn_tbl_total.24736_1140.csv')\n",
    "annotation_df.head()"
   ]
  },
  {
   "cell_type": "code",
   "execution_count": 15,
   "metadata": {},
   "outputs": [
    {
     "data": {
      "text/plain": [
       "1503"
      ]
     },
     "execution_count": 15,
     "metadata": {},
     "output_type": "execute_result"
    }
   ],
   "source": [
    "#covert gene ids to gene names\n",
    "list_gene_names=[]\n",
    "for g in unique_gene_list:\n",
    "    gene_name=annotation_df[annotation_df['Geneid']==g]['gene_name'].iloc[0]\n",
    "    if gene_name not in list_gene_names: list_gene_names.append(gene_name)\n",
    "\n",
    "len(list_gene_names)\n"
   ]
  },
  {
   "cell_type": "code",
   "execution_count": 18,
   "metadata": {},
   "outputs": [],
   "source": [
    "#run the GO enrichment analysis\n",
    "import gseapy as gp"
   ]
  },
  {
   "cell_type": "code",
   "execution_count": 20,
   "metadata": {},
   "outputs": [],
   "source": [
    "enrichr_results = gp.enrichr(\n",
    "gene_list=list_gene_names,                        \n",
    "gene_sets=\"KEGG_2019_Human\",    \n",
    "organism=\"Human\",                          \n",
    "outdir=f\"enrichr_results/clusters_with_corr_thresh_{corr_thresh}_number_of_genes_{len(list_gene_names)}\",                  \n",
    ")"
   ]
  }
 ],
 "metadata": {
  "kernelspec": {
   "display_name": "base",
   "language": "python",
   "name": "python3"
  },
  "language_info": {
   "codemirror_mode": {
    "name": "ipython",
    "version": 3
   },
   "file_extension": ".py",
   "mimetype": "text/x-python",
   "name": "python",
   "nbconvert_exporter": "python",
   "pygments_lexer": "ipython3",
   "version": "3.11.5"
  }
 },
 "nbformat": 4,
 "nbformat_minor": 2
}
