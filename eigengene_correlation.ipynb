{
 "cells": [
  {
   "cell_type": "code",
   "execution_count": 7,
   "metadata": {},
   "outputs": [],
   "source": [
    "import clusim.sim as csim\n",
    "import leidenalg\n",
    "from igraph import Graph\n",
    "from clusim.clustering import Clustering, print_clustering\n",
    "import pandas as pd\n",
    "from infomap import Infomap\n",
    "import numpy as np\n",
    "import xnetwork as xn\n",
    "import graph_tool as gt\n",
    "import graph_tool.inference as gtInference\n",
    "from graph_tool import Graph as gtGraph\n",
    "from pathlib import Path \n",
    "from tqdm.auto import tqdm\n",
    "from multiprocessing import Pool\n",
    "from functools import partial\n",
    "from sklearn.decomposition import PCA\n",
    "from collections import defaultdict\n",
    "from functools import partial"
   ]
  },
  {
   "cell_type": "code",
   "execution_count": null,
   "metadata": {},
   "outputs": [],
   "source": [
    "data_demo=pd.read_csv('/Users/fsfatemi/local_AD/KBASE_datashare/demo_final2024.merge_phenotype.506.csv')\n",
    "data_demo.head()"
   ]
  },
  {
   "cell_type": "code",
   "execution_count": null,
   "metadata": {},
   "outputs": [],
   "source": [
    "data_GlCtx_CL_log=data_demo[['Barcode','GlCtx_CL_log']]\n",
    "data_GlCtx_CL_log.set_index('Barcode', inplace=True)\n",
    "data_GlCtx_CL_log= data_GlCtx_CL_log.T\n",
    "data_GlCtx_CL_log.head()"
   ]
  },
  {
   "cell_type": "code",
   "execution_count": null,
   "metadata": {},
   "outputs": [],
   "source": [
    "data_deposition=pd.read_csv('/Users/fsfatemi/local_AD/KBASE_datashare/residuals_cqn_cpm.13603_1140.csv')\n",
    "data_deposition.set_index('Barcode', inplace=True)\n",
    "data_deposition=data_deposition.T\n",
    "data_deposition.head()"
   ]
  },
  {
   "cell_type": "code",
   "execution_count": 71,
   "metadata": {},
   "outputs": [],
   "source": [
    "def calculate_eigengene(values_df):\n",
    "\n",
    "\n",
    "    beta_values_matrix = values_df.values\n",
    "    pca = PCA(n_components=1)\n",
    "    pca.fit(beta_values_matrix)\n",
    "    eigengene_values = pca.components_\n",
    "    return pd.DataFrame(eigengene_values,columns=data_deposition.columns)"
   ]
  },
  {
   "cell_type": "code",
   "execution_count": 82,
   "metadata": {},
   "outputs": [],
   "source": [
    "def calculateCorrelations(cg_names):\n",
    "\n",
    "    data_module=data_deposition.loc[data_deposition.index.isin(cg_names)]\n",
    "    eigengene_df = calculate_eigengene(data_module)\n",
    "\n",
    "    series1 = eigengene_df.iloc[0]\n",
    "    series2 = data_GlCtx_CL_log[eigengene_df.columns].iloc[0]\n",
    "    correlation = series1.corr(series2)\n",
    "    \n",
    "    return {\"correlation\": correlation}"
   ]
  },
  {
   "cell_type": "code",
   "execution_count": 8,
   "metadata": {},
   "outputs": [],
   "source": [
    "def membership_to_clusters(membership_vector):\n",
    "\n",
    "    clusters = defaultdict(set)\n",
    "\n",
    "    for idx, cluster_id in enumerate(membership_vector):\n",
    "        clusters[cluster_id].add(idx)\n",
    "    \n",
    "\n",
    "    cluster_list = [set(cluster) for cluster in clusters.values()]\n",
    "    \n",
    "    return cluster_list"
   ]
  },
  {
   "cell_type": "code",
   "execution_count": 78,
   "metadata": {},
   "outputs": [],
   "source": [
    "resolutions = [0.001,0.005,0.01,0.1,1.0,0.5,5.0,10.0,20.0,50,100]\n",
    "markovTimes = [0.1,0.2,0.3,0.4,0.5,0.6,0.7,0.8,0.9,1,5,10]\n",
    "\n",
    "def processnetwork(networkFile):\n",
    "\n",
    "    g = xn.load(networkFile)\n",
    "    entries = []\n",
    "\n",
    "    for res in resolutions:\n",
    "\n",
    "        #leiden weighted\n",
    "        propertyName=\"Leiden_weighted_%f\"%res\n",
    "        membership_list=g.vs[propertyName]\n",
    "\n",
    "        clusters = membership_to_clusters(membership_list)\n",
    "\n",
    "        for c in clusters:\n",
    "            cg_names=[g.vs[idx]['Label'] for idx in c]\n",
    "            entries.append({\"cluster\": cg_names,\n",
    "                            \"cluster size\":len(cg_names),\n",
    "                            \"resolution\":res,\n",
    "                            \"network\":networkFile.stem,\n",
    "                            \"method\":'leiden_weighted',\n",
    "                            })\n",
    "\n",
    "            entries[-1].update(calculateCorrelations(cg_names))\n",
    "        \n",
    "        \n",
    "        \n",
    "        #leiden unweighted\n",
    "        propertyName=\"Leiden_unweighted_%f\"%res\n",
    "        membership_list=g.vs[propertyName]\n",
    "\n",
    "        clusters = membership_to_clusters(membership_list)\n",
    "\n",
    "        for c in clusters:\n",
    "            \n",
    "            cg_names=[g.vs[idx]['Label'] for idx in c]\n",
    "            entries.append({\"cluster\": cg_names,\n",
    "                            \"cluster size\":len(cg_names),\n",
    "                            \"resolution\":res,\n",
    "                            \"network\":networkFile.stem,\n",
    "                            \"method\":'leiden_unweighted',\n",
    "                            })\n",
    "\n",
    "            entries[-1].update(calculateCorrelations(cg_names))\n",
    "    del g\n",
    "    return entries"
   ]
  },
  {
   "cell_type": "code",
   "execution_count": null,
   "metadata": {},
   "outputs": [],
   "source": [
    "\n",
    "\n",
    "if __name__ == \"__main__\":\n",
    "    networksWithCommunitiesPath = Path(\"KNN_NetworksWithCommunities\")\n",
    "    networkFiles = list(networksWithCommunitiesPath.glob(\"*.xnet\"))\n",
    "    print(networkFiles)\n",
    "    allEntries = []\n",
    "    for networkFile in networkFiles:\n",
    "        entries = processnetwork(networkFile)\n",
    "        allEntries += entries\n",
    "    \n",
    "    df = pd.DataFrame(allEntries)\n",
    "    df.to_csv(\"Correlation_results/module_correlations_leiden_all.csv\", index=False)\n",
    "\n"
   ]
  }
 ],
 "metadata": {
  "kernelspec": {
   "display_name": "base",
   "language": "python",
   "name": "python3"
  },
  "language_info": {
   "codemirror_mode": {
    "name": "ipython",
    "version": 3
   },
   "file_extension": ".py",
   "mimetype": "text/x-python",
   "name": "python",
   "nbconvert_exporter": "python",
   "pygments_lexer": "ipython3",
   "version": "3.11.5"
  }
 },
 "nbformat": 4,
 "nbformat_minor": 2
}
